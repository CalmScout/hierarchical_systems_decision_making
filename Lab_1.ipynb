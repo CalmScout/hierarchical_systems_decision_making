{
 "cells": [
  {
   "cell_type": "markdown",
   "metadata": {},
   "source": [
    "## Задача (варіант 1)"
   ]
  },
  {
   "cell_type": "markdown",
   "metadata": {},
   "source": [
    "Задача прийняття рішення полягає в оцінюванні чотирьох варіантів\n",
    "деякого інноваційного товару за критерієм «перспективність попиту».\n",
    "Результати парних порівнянь варіантів товару наступні: другий варіант\n",
    "ненабагато кращий за перший і третій варіанти і суттєво кращий за\n",
    "четвертий, перший варіант ненабагато кращий за третій і практично\n",
    "такий самий як і четвертий варіант, третій варіант переважає четвертий\n",
    "і ступінь переваги між рівною важливістю і несуттєвою перевагою."
   ]
  },
  {
   "cell_type": "markdown",
   "metadata": {},
   "source": [
    "## Матриця парних порівнянь"
   ]
  },
  {
   "cell_type": "markdown",
   "metadata": {},
   "source": [
    "|Інтенсивність важливості | Якісна оцінка|\n",
    "|-------------------------|--------------|\n",
    "| 1 | однаково важливі |\n",
    "| 3 | ненабагато важливіші |\n",
    "| 5 | суттєво важливіші |\n",
    "| 7 | значно важливіші |\n",
    "| 9 | абсолютно важливіші |\n",
    "2, 4, 6, 8 - проміжні"
   ]
  },
  {
   "cell_type": "code",
   "execution_count": 1,
   "metadata": {},
   "outputs": [],
   "source": [
    "import numpy as np"
   ]
  },
  {
   "cell_type": "markdown",
   "metadata": {},
   "source": [
    "Матриця парних порівнянь $D = \\{d_{ij} | i, j = 1, \\dots, 4\\}$ альтернатив $A = \\{a_i\\}, i = 1, \\dots, 4$.\n",
    "\n",
    "Для мультиплікативних груп $d_{ij}$ вказує **у скільки** разів альтернатива $a_i$ переважає альтернативу $a_j$ вдносно критерію, за яким будується матриця $D$."
   ]
  },
  {
   "cell_type": "code",
   "execution_count": 5,
   "metadata": {},
   "outputs": [
    {
     "data": {
      "text/plain": [
       "array([[1.        , 0.33333333, 3.        , 1.        ],\n",
       "       [3.        , 1.        , 3.        , 5.        ],\n",
       "       [0.33333333, 0.33333333, 1.        , 2.        ],\n",
       "       [1.        , 0.2       , 0.5       , 1.        ]])"
      ]
     },
     "execution_count": 5,
     "metadata": {},
     "output_type": "execute_result"
    }
   ],
   "source": [
    "D = np.array([[1.0, 1/3.0, 3.0, 1.0],\n",
    "              [3.0, 1.0, 3.0, 5.0],\n",
    "              [1/3.0, 1/3.0, 1.0, 2.0],\n",
    "              [1.0, 1/5.0, 1/2.0, 1.0]])\n",
    "D"
   ]
  },
  {
   "cell_type": "markdown",
   "metadata": {},
   "source": [
    "Перевірка матриці парних порівнянь на коректність(якщо альтернатива $a_i$ краща за альтернативу $a_j$ у $k$ разів, тоді $d_{ij} = k, d_{ji} = \\frac{1}{k}$)."
   ]
  },
  {
   "cell_type": "code",
   "execution_count": 6,
   "metadata": {},
   "outputs": [
    {
     "name": "stdout",
     "output_type": "stream",
     "text": [
      "Is matrix satisfies inverse symmetry property: True\n"
     ]
    }
   ],
   "source": [
    "# check matrix on inverse symmetry property\n",
    "def check_inverse_symmetry(matrix, group_type='multiplicative'):\n",
    "    \"\"\"\n",
    "    Checks inverse synnetry property dependyng on type of the group - 'multiplicative' or 'additive'.\n",
    "    \"\"\"\n",
    "    if group_type == 'multiplicative':\n",
    "        f = lambda x: 1 / x\n",
    "    elif group_type == 'additive':\n",
    "        f = lambda x: -x\n",
    "    else:\n",
    "        raise ValueError('Wrong group type argument')\n",
    "    \n",
    "    for i in range(len(matrix)):\n",
    "        for j in range(i, len(matrix[i])):\n",
    "            if matrix[j][i] != f(matrix[i][j]):\n",
    "                return False\n",
    "    \n",
    "    if group_type == 'multiplicative':\n",
    "        for i in range(len(matrix)):\n",
    "            for j in range(len(matrix[i])):\n",
    "                if matrix[i][j] <= 0:\n",
    "                    return false\n",
    "    \n",
    "    return True\n",
    "\n",
    "print(\"Is matrix satisfies inverse symmetry property: {}\".format(check_inverse_symmetry(D)))"
   ]
  },
  {
   "cell_type": "markdown",
   "metadata": {},
   "source": [
    "## Ваги альтернатив"
   ]
  },
  {
   "cell_type": "markdown",
   "metadata": {},
   "source": [
    "Метою спеціаліста з методу аналізу ієрархій є побудова ваг для кожної з альтернатив: $a_i, i = 1, \\dots, 4$. Для цього існують різні методи. Нижче застосовано метод головного власного вектору(eigenvector method, EM)"
   ]
  },
  {
   "cell_type": "markdown",
   "metadata": {},
   "source": [
    "### Eigenvector method (EM)"
   ]
  },
  {
   "cell_type": "markdown",
   "metadata": {},
   "source": [
    "Шукаємо власні числа та відповідні їм власні вектори матриці парних порівнянь $D$"
   ]
  },
  {
   "cell_type": "code",
   "execution_count": 8,
   "metadata": {},
   "outputs": [
    {
     "name": "stdout",
     "output_type": "stream",
     "text": [
      "Eigenvalue: (4.309521917464972+0j) \n",
      "Corresponding eigenvector: [0.37381158+0.j 0.6885513 +0.j 0.6885513 -0.j 0.0444672 +0.j]\n",
      "****************************************\n",
      "Eigenvalue: (-0.17389889540919656+1.1475900512031707j) \n",
      "Corresponding eigenvector: [ 0.87037106+0.j         -0.4527623 -0.20393508j -0.4527623 +0.20393508j\n",
      " -0.98882619+0.j        ]\n",
      "****************************************\n",
      "Eigenvalue: (-0.17389889540919656-1.1475900512031707j) \n",
      "Corresponding eigenvector: [ 0.24799935+0.j         -0.16556011+0.38091261j -0.16556011-0.38091261j\n",
      "  0.05138678+0.j        ]\n",
      "****************************************\n",
      "Eigenvalue: (0.038275873353423466+0j) \n",
      "Corresponding eigenvector: [ 0.20301587+0.j         -0.16068851-0.28458483j -0.16068851+0.28458483j\n",
      "  0.13268321+0.j        ]\n",
      "****************************************\n"
     ]
    }
   ],
   "source": [
    "from numpy import linalg\n",
    "# calculate eigenvalues 'w' and eigenvectors 'v' using NumPy package\n",
    "w, v = linalg.eig(D)\n",
    "for i in range(len(w)):\n",
    "    print('Eigenvalue: {} \\nCorresponding eigenvector: {}'.format(w[i], v[i]))\n",
    "    print('*' * 40)"
   ]
  },
  {
   "cell_type": "markdown",
   "metadata": {},
   "source": [
    "Власний вектор, що відповідає максимальному власному числу буде шуканим набором ваг. З теорії відомо, що максимальне власне число буде дійсним, йому відповідатиме вектор власний вектор, що складатиметься з ваг одного знаку(всі від'ємні або всі додатні). Якщо отримуємо від'ємний вектор - множимо на $-1$. Отриманий вектор і є шуканим вектором ваг."
   ]
  },
  {
   "cell_type": "code",
   "execution_count": 11,
   "metadata": {},
   "outputs": [
    {
     "name": "stdout",
     "output_type": "stream",
     "text": [
      "Max eigenvalue: 4.309521917464972\n",
      "Corresponding eigenvector: [0.37381158 0.6885513  0.6885513  0.0444672 ]\n"
     ]
    }
   ],
   "source": [
    "# eigenvector corresponding to max eigenvector\n",
    "w_max = np.real(np.max(w))\n",
    "print(\"Max eigenvalue: {}\".format(w_max))\n",
    "v_max = np.real(v[np.argmax(w)])\n",
    "print(\"Corresponding eigenvector: {}\".format(v_max))"
   ]
  },
  {
   "cell_type": "markdown",
   "metadata": {},
   "source": [
    "### CR"
   ]
  },
  {
   "cell_type": "markdown",
   "metadata": {},
   "source": [
    "Табличні значення середнього значення індексів узгодженності для заповнених випадковим чином матриць парних порівнянь"
   ]
  },
  {
   "cell_type": "code",
   "execution_count": 12,
   "metadata": {},
   "outputs": [],
   "source": [
    "# dependence of MRCI from dimension 'n' of Pair Comparison Matrix\n",
    "mrci = np.array([0, 0, 0.52, 0.89, 1.11, 1.25, 1.35, 1.4, 1.45, 1.49, 1.52, 1.54, 1.56, 1.58, 1.59])"
   ]
  },
  {
   "cell_type": "code",
   "execution_count": 15,
   "metadata": {},
   "outputs": [
    {
     "name": "stdout",
     "output_type": "stream",
     "text": [
      "4\n"
     ]
    }
   ],
   "source": [
    "n = D.shape[0]\n",
    "print(n)"
   ]
  },
  {
   "cell_type": "markdown",
   "metadata": {},
   "source": [
    "Consistency index computing:"
   ]
  },
  {
   "cell_type": "code",
   "execution_count": 17,
   "metadata": {},
   "outputs": [
    {
     "name": "stdout",
     "output_type": "stream",
     "text": [
      "0.1031739724883239\n"
     ]
    }
   ],
   "source": [
    "CI = (w_max - n) / (n - 1)\n",
    "print(CI)"
   ]
  },
  {
   "cell_type": "markdown",
   "metadata": {},
   "source": [
    "Compute consistency ratio:"
   ]
  },
  {
   "cell_type": "code",
   "execution_count": 18,
   "metadata": {},
   "outputs": [
    {
     "name": "stdout",
     "output_type": "stream",
     "text": [
      "0.1159258117846336\n"
     ]
    }
   ],
   "source": [
    "CR = CI / mrci[n - 1]\n",
    "print(CR)"
   ]
  },
  {
   "cell_type": "markdown",
   "metadata": {},
   "source": [
    "**МПП недопустимо неузгоджена, бо СІ перевищує попрогове значення для n = 4: 0.08**"
   ]
  },
  {
   "cell_type": "markdown",
   "metadata": {},
   "source": [
    "## Оцінка узгодженності МПП"
   ]
  },
  {
   "cell_type": "markdown",
   "metadata": {},
   "source": [
    "### За визначенням\n",
    "CR < Threshold, тому допустимо узгоджена - може використовуватися для обрахунку ваг."
   ]
  },
  {
   "cell_type": "code",
   "execution_count": 21,
   "metadata": {
    "scrolled": true
   },
   "outputs": [
    {
     "name": "stdout",
     "output_type": "stream",
     "text": [
      "Error: i == 0, j == 1, k == 2\n",
      "0.3333333333333333 != 1.0\n",
      "Error: i == 0, j == 1, k == 3\n",
      "0.3333333333333333 != 0.2\n",
      "Error: i == 0, j == 2, k == 3\n",
      "3.0 != 0.5\n",
      "Error: i == 1, j == 2, k == 3\n",
      "3.0 != 2.5\n"
     ]
    }
   ],
   "source": [
    "counter = 0\n",
    "for i in range(D.shape[0]):\n",
    "    for j in range(i+1, D.shape[0]):\n",
    "        for k in range(j+1, D.shape[0]):\n",
    "            counter += 1\n",
    "            if D[i][j] != D[i][k] * D[k][j]:\n",
    "                print(\"Error: i == {}, j == {}, k == {}\".format(i, j, k))\n",
    "                print(\"{} != {}\".format(D[i][j], D[i][k] * D[k][j]))"
   ]
  },
  {
   "cell_type": "markdown",
   "metadata": {},
   "source": [
    "# Фінальні ваги"
   ]
  },
  {
   "cell_type": "code",
   "execution_count": 22,
   "metadata": {},
   "outputs": [
    {
     "name": "stdout",
     "output_type": "stream",
     "text": [
      "Final weights: [0.35805998 0.65953728 0.65953728 0.04259345]\n"
     ]
    }
   ],
   "source": [
    "weights = v_max / np.linalg.norm(v_max, 2)\n",
    "print(\"Final weights: {}\".format(weights))"
   ]
  },
  {
   "cell_type": "markdown",
   "metadata": {},
   "source": [
    "Перевірка"
   ]
  },
  {
   "cell_type": "code",
   "execution_count": 23,
   "metadata": {},
   "outputs": [
    {
     "name": "stdout",
     "output_type": "stream",
     "text": [
      "1.0000000000000002\n"
     ]
    }
   ],
   "source": [
    "print(np.sum(np.power(weights, 2)))"
   ]
  }
 ],
 "metadata": {
  "kernelspec": {
   "display_name": "Python 3",
   "language": "python",
   "name": "python3"
  },
  "language_info": {
   "codemirror_mode": {
    "name": "ipython",
    "version": 3
   },
   "file_extension": ".py",
   "mimetype": "text/x-python",
   "name": "python",
   "nbconvert_exporter": "python",
   "pygments_lexer": "ipython3",
   "version": "3.7.2"
  }
 },
 "nbformat": 4,
 "nbformat_minor": 2
}
