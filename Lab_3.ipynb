{
 "cells": [
  {
   "cell_type": "markdown",
   "metadata": {},
   "source": [
    "# Дослідження методів розрахунку пріоритетів альтернатив рішень на основі нечітких експертних оцінок парних порівнянь"
   ]
  },
  {
   "cell_type": "markdown",
   "metadata": {},
   "source": [
    "## Варіант 1"
   ]
  },
  {
   "cell_type": "markdown",
   "metadata": {},
   "source": [
    "**Завдання:**\n",
    "\n",
    "* Використовуючи метод GPM, розрахувати ваги на основі НМПП та декількох різних функцій приналежності, заданих згідно з варіантом. Використати декомпозиційний підхід. Порівняти результати, отримані при різних функціях приналежності. Чи змінюється ранжування альтернатив рішень при використанні різних функцій приналежності на основі однієї і тієї ж НМПП? Результуючі ваги та ранжування представити графічно залежно від рівня $\\alpha$.\n",
    "\n",
    "* Розглянути чіткі МПП, побудовані на основі заданих НМПП. Розрахувати інтервали [Bel, Pls] для ваг на основі чітких МПП. За інтервалами [Bel,Pls] побудувати ранжування альтернатив. Порівняти з ранжуваннями, отриманими на основі НМПП при різних значеннях рівня $\\alpha$.\n",
    "\n",
    "**Нечіткі матриці парних порівнянь:**\n",
    "\n",
    "| 1 | 2 | 3 |\n",
    "| - | - | - |\n",
    "|<img src=\"images/lab_3_matrix_1.png\" width=200>|<img src=\"images/lab_3_matrix_2.png\" width=200>|<img src=\"images/lab_3_matrix_3.png\" width=200>|\n",
    "\n",
    "**Функції приналежності**\n",
    "\n",
    "| Функція приналежності, що відповідає нечіткій фундаментальній шкалі трикутного виду | Функція приналежності, що відповідає нечіткій фундаментальній шкалі трапецевидного виду | Гаусівська ФП |\n",
    "| - | - | - |\n",
    "|<img src=\"images/lab_3_func_1.png\" width=256>|<img src=\"images/lab_3_func_2.png\" width=256>| $N(0, 1)$ |"
   ]
  },
  {
   "cell_type": "markdown",
   "metadata": {},
   "source": [
    "## Теоретичні відомості"
   ]
  },
  {
   "cell_type": "markdown",
   "metadata": {},
   "source": [
    "***Інтервальною матрицею парних порівнянь (ІМПП)*** називається:\n",
    "\n",
    "$$A = {(a_{ij}) | a_{ij} = [l_{ij}; u_{ij}], i = 1, \\dots, n, j = 1, \\dots, n}$$\n",
    "\n",
    "де $u_{ij} \\geq l_{ij} > 0, l_{ij} = \\frac{1}{u_{ji}}$ при $i \\neq j$ і $a_{ii} = l_{ii} = u_{ii} = 1$.\n",
    "\n",
    "Задача полягає у розрахунку вектору ваг $w = (w_{i} | i = 1, \\dots, n)$ на основі ІМПП.\n",
    "\n",
    "<img src=\"images/lab_3_alg.png\" width=700>\n",
    "\n",
    "Декомпозиційне представлення НМПП $A_{k}^{неч}, k = 1, \\dots, K$ полягає в її розкладі за множинами рівня $A_{k}(\\alpha)$:\n",
    "\n",
    "$$A_{k}^{неч} = \\bigcup_{\\alpha \\in [0, 1]} \\alpha A_{k}(\\alpha),   k = 1, \\dots, K$$\n",
    "\n",
    "де $A_{k}(\\alpha) = \\{(a_{ijk}(\\alpha)) | i, j = 1, \\dots, N\\}$ - матриця множин рівня $\\alpha$, \n",
    "\n",
    "$a_{ijk}(\\alpha) = \\{x: \\mu_{ijk}(x) \\geq \\alpha \\}, \\alpha \\in [0, 1]$, $\\mu_{ijk}$ - функція приналежності нечіткій множині $a_{ijk}^{неч}, x \\in R$"
   ]
  },
  {
   "cell_type": "code",
   "execution_count": 3,
   "metadata": {},
   "outputs": [],
   "source": [
    "%reload_ext autoreload\n",
    "%autoreload 2\n",
    "%matplotlib inline"
   ]
  },
  {
   "cell_type": "code",
   "execution_count": 16,
   "metadata": {},
   "outputs": [],
   "source": [
    "import numpy as np\n",
    "# put the seed for reproducibility\n",
    "np.random.seed(42)\n",
    "import matplotlib.pyplot as plt\n",
    "from scipy.stats import norm\n",
    "from scipy.optimize import linprog"
   ]
  },
  {
   "cell_type": "code",
   "execution_count": 5,
   "metadata": {},
   "outputs": [],
   "source": [
    "norm??"
   ]
  },
  {
   "cell_type": "code",
   "execution_count": 8,
   "metadata": {},
   "outputs": [
    {
     "data": {
      "image/png": "[encoded data removed]",
      "text/plain": [
       "<Figure size 432x288 with 1 Axes>"
      ]
     },
     "metadata": {
      "needs_background": "light"
     },
     "output_type": "display_data"
    }
   ],
   "source": [
    "x = np.linspace(-5, 5, 100)\n",
    "y = norm._pdf(x)\n",
    "plt.plot(x, y);"
   ]
  },
  {
   "cell_type": "markdown",
   "metadata": {},
   "source": [
    "## Вхідні дані"
   ]
  },
  {
   "cell_type": "markdown",
   "metadata": {},
   "source": [
    "Нечіткі матриці парних порвнянь:"
   ]
  },
  {
   "cell_type": "code",
   "execution_count": 13,
   "metadata": {},
   "outputs": [],
   "source": [
    "# matrices of pair comparisonі\n",
    "mpc_1 = np.array([[1., 1./3, 1./6, 1./7, 1./9],\n",
    "                  [3., 1.  , 1./2, 1./2, 3.  ],\n",
    "                  [6., 2.  , 1.  , 1.  , 1.  ],\n",
    "                  [7., 2.  , 1.  , 1.  , 1.  ],\n",
    "                  [9., 1./3, 1.  , 1.  , 1.  ]]);\n",
    "\n",
    "mpc_2 = np.array([[1.  , 5.  , 2., 3.  , 5.  ],\n",
    "                  [1./2, 1.  , 3., 3.  , 2.  ],\n",
    "                  [1./2, 1./3, 1., 1./3, 1./7],\n",
    "                  [1./3, 1./3, 3., 1.  , 2.  ],\n",
    "                  [1./5, 1./2, 7., 1./2, 1.  ]]);\n",
    "\n",
    "mpc_3 = np.array([[1.  , 3.  , 2.  , 1.  , 3.  ],\n",
    "                  [1./3, 1.  , 2.  , 1./5, 1./2],\n",
    "                  [1./2, 1./2, 1.  , 1./2, 2.  ],\n",
    "                  [1.  , 5.  , 2.  , 1.  , 2.  ],\n",
    "                  [1./3, 2.  , 1./2, 1./2, 1.  ]]);"
   ]
  },
  {
   "cell_type": "markdown",
   "metadata": {},
   "source": [
    "Функції приналежності:"
   ]
  },
  {
   "cell_type": "code",
   "execution_count": 14,
   "metadata": {},
   "outputs": [],
   "source": [
    "# membership functions dictionaries:\n",
    "\n",
    "# triangular membership function\n",
    "mem_func_1_dict = {\n",
    "    1: (1, 1, 3),\n",
    "    2: (1, 2, 4),\n",
    "    3: (1, 3, 5),\n",
    "    4: (2, 4, 6),\n",
    "    5: (3, 5, 7),\n",
    "    6: (4, 6, 8),\n",
    "    7: (5, 7, 9),\n",
    "    8: (6, 8, 9),\n",
    "    9: (7, 9, 9)\n",
    "}\n",
    "\n",
    "# trapezius membership function\n",
    "mem_func_2_dict = {\n",
    "    1: (1, 1, 1, 2),\n",
    "    2: (1, 1.5, 2.5, 3),\n",
    "    3: (2, 2.5, 3.5, 4),\n",
    "    4: (3, 3.5, 4.5, 5),\n",
    "    5: (4, 4.5, 5.5, 6),\n",
    "    6: (5, 5.5, 6.5, 7),\n",
    "    7: (6, 6.5, 7.5, 8),\n",
    "    8: (7, 7.5, 8.5, 9),\n",
    "    9: (8, 9, 9, 9)\n",
    "}"
   ]
  },
  {
   "cell_type": "code",
   "execution_count": 15,
   "metadata": {},
   "outputs": [],
   "source": [
    "# here put actual functions, including the normal one"
   ]
  },
  {
   "cell_type": "markdown",
   "metadata": {},
   "source": [
    "## GPM"
   ]
  },
  {
   "cell_type": "code",
   "execution_count": 17,
   "metadata": {},
   "outputs": [],
   "source": [
    "def gpm(L,U):\n",
    "    n = int(len(L))\n",
    "    # Create diagonal matrix\n",
    "    I = np.eye(len(L))\n",
    "    f = np.zeros(6*n)\n",
    "    for i in range((2*n),(6*n)):\n",
    "        f[i] = 1\n",
    "\n",
    "    A1eq = np.zeros((n,6*n))\n",
    "    b1eq = np.zeros((n,1))\n",
    "    A2eq = np.zeros((n, 6 * n))\n",
    "    b2eq = np.zeros((n,1))\n",
    "\n",
    "    for i in range(n):\n",
    "        for j in range(n):\n",
    "            A1eq[i,j] = -(n-1)*I[i,j]\n",
    "            A1eq[i,(j+n)] = (L[i][j]-I[i][j])\n",
    "            A1eq[i,(j+2*n)] = -I[i,j]\n",
    "            A1eq[i,(j+3*n)] = -I[i,j]\n",
    "\n",
    "            A2eq[i,j] = (U[i][j]-I[i][j])\n",
    "            A2eq[i, (j + n)] = -(n - 1) * I[i, j]\n",
    "            A2eq[i, (j + 4 * n)] = -I[i, j]\n",
    "            A2eq[i, (j + 5 * n)] = -I[i, j]\n",
    "\n",
    "    Aeq=np.zeros((2*n,6*n))\n",
    "    beq=np.zeros(2*n)\n",
    "\n",
    "    for j in range(6*n):\n",
    "        for i in range(n):\n",
    "            Aeq[i,j]=A1eq[i,j]\n",
    "            Aeq[i+n, j] = A2eq[i, j]\n",
    "\n",
    "    A1=np.zeros((n,6*n))\n",
    "    b1=np.ones(n)\n",
    "    for i in range(n):\n",
    "        b1[i]=-b1[i]\n",
    "    A2 = np.zeros((n, 6 * n))\n",
    "    b2 = np.ones(n)\n",
    "\n",
    "    E=np.ones((n,n))\n",
    "\n",
    "    for i in range(n):\n",
    "        for j in range(n):\n",
    "            A1[i,j]=-I[i,j]\n",
    "            A1[i,j+n]=-(E[i,j]-I[i,j])\n",
    "\n",
    "            A2[i, j] = E[i,j]-I[i, j]\n",
    "            A2[i, j + n] = I[i, j]\n",
    "\n",
    "    A3=np.zeros((n,6*n))\n",
    "    b3=np.zeros(n)\n",
    "\n",
    "    for i in range(n):\n",
    "        for j in range(n):\n",
    "            A3[i,j]=I[i,j]\n",
    "            A3[i,j+n]=-I[i,j]\n",
    "\n",
    "    A=np.zeros((3*n,6*n))\n",
    "    b=np.zeros((3*n, 1))\n",
    "    for j in range(6*n):\n",
    "        for i in range(n):\n",
    "            A[i,j]=A1[i,j]\n",
    "            A[i+n,j]=A2[i,j]\n",
    "            A[i+2*n,j]=A3[i,j]\n",
    "\n",
    "    for i in range(n):\n",
    "        b[i]=b1[i]\n",
    "        b[i+n]=b2[i]\n",
    "        b[i+2*n]=b3[i]\n",
    "\n",
    "    lb=np.zeros((6*n,1))\n",
    "    ub=[]\n",
    "\n",
    "    #[x,fval]=linprog(f,A,b,Aeq,beq,lb,ub)\n",
    "    res = linprog(f, A_ub=A, b_ub=b, A_eq=Aeq, b_eq=beq, bounds=(0,None),options={\"disp\": True})\n",
    "\n",
    "    X = res.x\n",
    "    # блок вывода\n",
    "\n",
    "    print(\"f\",f)\n",
    "    print('A=',A)\n",
    "    print('b=',b);\n",
    "    print('Aeq=',Aeq)\n",
    "    print('beq=', beq)\n",
    "\n",
    "    #J=fval\n",
    "    #for i in range(1,n):\n",
    "       # wL = x[i]\n",
    "    # i in range (n+1,2*n):\n",
    "       # wU= x[i]\n",
    "\n",
    "    wL = np.zeros(n)\n",
    "    wU = np.zeros(n)\n",
    "    for i in range(n):\n",
    "        wL[i] = X[i]\n",
    "        wU[i] = X[i + n]\n",
    "\n",
    "    print(\"X = \")\n",
    "    print(res.x)\n",
    "    print(\"J* = \")\n",
    "    print(res.fun)\n",
    "    print(\"wL = \", end=\" \")\n",
    "    print(wL)\n",
    "    print(\"wU = \", end=\" \")\n",
    "    print(wU)\n",
    "\n",
    "    return {\"J*\": res.fun, \"wL\": wL, \"wU\": wU}"
   ]
  },
  {
   "cell_type": "code",
   "execution_count": null,
   "metadata": {},
   "outputs": [],
   "source": []
  }
 ],
 "metadata": {
  "kernelspec": {
   "display_name": "Python 3",
   "language": "python",
   "name": "python3"
  },
  "language_info": {
   "codemirror_mode": {
    "name": "ipython",
    "version": 3
   },
   "file_extension": ".py",
   "mimetype": "text/x-python",
   "name": "python",
   "nbconvert_exporter": "python",
   "pygments_lexer": "ipython3",
   "version": "3.7.3"
  }
 },
 "nbformat": 4,
 "nbformat_minor": 2
}
