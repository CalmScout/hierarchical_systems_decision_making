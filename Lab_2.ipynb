{
 "cells": [
  {
   "cell_type": "markdown",
   "metadata": {},
   "source": [
    "### Задача (варіант 1)\n",
    "\n",
    "**Ієрархія:** p = 3, повна, m = (4, 3, 3)\n",
    "\n",
    "<img src=\"images/lab_2_hierarchy.png\" width=256>\n",
    "\n",
    "**Метод розрахунку глобальних ваг:** дистрибутивний, ГВБВПА"
   ]
  },
  {
   "cell_type": "markdown",
   "metadata": {},
   "source": [
    "*Методи аналізу альтернатив рішень на основі ієрархічної моделі критеріїв (МАІ, analytic hierarchy process, AHP)* складаються з наступних чотирьох загальних етапів:\n",
    "\n",
    "1. Побудова ієрархічної моделі критеріїв, цілей та інших факторів, які впливають на головну ціль прийняття рішення; побудова множини альтернативних варіантів рішень.\n",
    "\n",
    "2. Отримання суджень експертів щодо парних порівнянь елементів одного рівня ієрархії відносно спільного елементу вищого рівня. Парні порівняння проводяться у вибраній шкалі і за результатами будуються матриці парних порівнянь (МПП), які є обернено симетричними.\n",
    "\n",
    "3. Математична обробка суджень експертів:\n",
    "   * розрахунок локальних ваг елементів кожного рівня ієрархії відповідно до батьківських елементів вищого рівня на основі МПП; побудова локальних ранжувань;\n",
    "   * аналіз узгодженості експертних оцінок;\n",
    "   * розрахунок глобальних ваг елементів ієрархії відносно головної цілі прийняття рішення, використовуючи методи агрегування; побудова ранжування на основі глобальних ваг.\n",
    "\n",
    "4. Аналіз чутливості отриманих ранжувань.\n",
    "\n",
    "Постановка задачі:\n",
    "\n",
    "**Дано:** \n",
    " * $A = \\{A_i | i = 1, \\dots, N \\}$ - множина альтернативних варіантів рішень;\n",
    " * $C = \\{C_j | j = 1, \\dots, M \\}$ - множина критеріїв оцінювання альтернатив;\n",
    " * $a_{ij}$ - ненормована вага льтернативи $A_i$ за критерієм $C_j$;\n",
    " * $w_j^C$ - вага критерію $C_j, \\sum_{j=1}^{M} w_j^C = 1$\n",
    "\n",
    "**Потрібно:**\n",
    " * знайти глобальні ваги $w_i^{глоб}$ альтернатив $A_i, i = 1, \\dots, N$"
   ]
  },
  {
   "cell_type": "code",
   "execution_count": 1,
   "metadata": {},
   "outputs": [],
   "source": [
    "import numpy as np"
   ]
  },
  {
   "cell_type": "code",
   "execution_count": 9,
   "metadata": {},
   "outputs": [],
   "source": [
    "# number of alternatives\n",
    "n = 4\n",
    "# criterions C numbers per layer\n",
    "m = [4, 3, 3]"
   ]
  },
  {
   "cell_type": "markdown",
   "metadata": {},
   "source": [
    "Функція для генерування коректної матриці парних порівнянь для мультиплікативної групи"
   ]
  },
  {
   "cell_type": "code",
   "execution_count": 18,
   "metadata": {},
   "outputs": [],
   "source": [
    "np.random.choice??"
   ]
  },
  {
   "cell_type": "code",
   "execution_count": 19,
   "metadata": {},
   "outputs": [],
   "source": [
    "def generate_matched_matrix(n, low=1, high=10):\n",
    "    \"\"\"\n",
    "    Generates matched multiplicational matrix.\n",
    "    \"\"\"\n",
    "    mmp = np.zeros((n, n))\n",
    "    temp = np.random.randint(low, high, size=n).astype(float)\n",
    "    powers = np.random.choice(3, size=n, p=[0.5, 0, 0.5]) - 1\n",
    "    mmp[0, :] = np.power(temp, powers)\n",
    "    j = 0\n",
    "    for i in range(1, n):\n",
    "        mmp[i, j] = 1 / mmp[j, i]\n",
    "    for i in range(1, n):\n",
    "        for j in range(1, n):\n",
    "            mmp[i, j] = mmp[i, 0] * mmp[0, j]\n",
    "    mmp[0][0] = 1\n",
    "    return mmp"
   ]
  },
  {
   "cell_type": "markdown",
   "metadata": {},
   "source": [
    "# Data generation\n",
    "\n",
    "Генеруємо матриці парних порівнянь, та ваги критеріїв."
   ]
  },
  {
   "cell_type": "code",
   "execution_count": 20,
   "metadata": {},
   "outputs": [
    {
     "data": {
      "text/plain": [
       "[[array([[1.00e+00, 2.50e-01, 1.25e-01, 5.00e+00],\n",
       "         [4.00e+00, 1.00e+00, 5.00e-01, 2.00e+01],\n",
       "         [8.00e+00, 2.00e+00, 1.00e+00, 4.00e+01],\n",
       "         [2.00e-01, 5.00e-02, 2.50e-02, 1.00e+00]])],\n",
       " [array([[1.0000e+00, 1.2500e-01, 8.0000e+00],\n",
       "         [8.0000e+00, 1.0000e+00, 6.4000e+01],\n",
       "         [1.2500e-01, 1.5625e-02, 1.0000e+00]]), array([[ 1. ,  2. ,  0.2],\n",
       "         [ 0.5,  1. ,  0.1],\n",
       "         [ 5. , 10. ,  1. ]]), array([[1.        , 1.        , 0.33333333],\n",
       "         [1.        , 1.        , 0.33333333],\n",
       "         [3.        , 3.        , 1.        ]]), array([[ 1.        ,  0.33333333,  7.        ],\n",
       "         [ 3.        ,  1.        , 21.        ],\n",
       "         [ 0.14285714,  0.04761905,  1.        ]])],\n",
       " [array([[1.00000000e+00, 1.11111111e-01, 5.00000000e+00],\n",
       "         [9.00000000e+00, 1.00000000e+00, 4.50000000e+01],\n",
       "         [2.00000000e-01, 2.22222222e-02, 1.00000000e+00]]),\n",
       "  array([[1.        , 3.        , 1.        ],\n",
       "         [0.33333333, 1.        , 0.33333333],\n",
       "         [1.        , 3.        , 1.        ]]),\n",
       "  array([[1.        , 6.        , 4.        ],\n",
       "         [0.16666667, 1.        , 0.66666667],\n",
       "         [0.25      , 1.5       , 1.        ]])]]"
      ]
     },
     "execution_count": 20,
     "metadata": {},
     "output_type": "execute_result"
    }
   ],
   "source": [
    "# put some fixed seed for reproducibility of the results\n",
    "np.random.seed(42)\n",
    "# matrices of pair comparisons according to each of 'm' criterion\n",
    "\n",
    "# D = np.empty((m, n, n))\n",
    "# for i in range(m):\n",
    "#     d[i, :, :] = generate_matched_matrix(n)\n",
    "    \n",
    "# # weights of criterions\n",
    "# w_crit = np.random.randn(m, 1)\n",
    "# w_crit = w_crit / np.sum(w_crit)\n",
    "\n",
    "D = [[generate_matched_matrix(m[0])]]\n",
    "for layer in range(len(m) - 1):\n",
    "    d = []\n",
    "    for i in range(m[layer]):\n",
    "        d.append(generate_matched_matrix(m[layer + 1]))\n",
    "    D.append(d)\n",
    "D"
   ]
  },
  {
   "cell_type": "markdown",
   "metadata": {},
   "source": [
    "Обраховуємо локальні ваги використовуючи підхід EM з попередньої лабораторної роботи"
   ]
  },
  {
   "cell_type": "code",
   "execution_count": 5,
   "metadata": {},
   "outputs": [
    {
     "data": {
      "text/plain": [
       "array([[ 1.52504049e-05,  1.52504049e-05,  5.44849645e-42,\n",
       "         5.27080999e-44],\n",
       "       [ 1.00000000e+00, -1.00000000e+00, -1.00000000e+00,\n",
       "        -1.00000000e+00]])"
      ]
     },
     "execution_count": 5,
     "metadata": {},
     "output_type": "execute_result"
    }
   ],
   "source": [
    "# # generate unnormed local weights of alternatives with respect to all criterions\n",
    "# # rows are corresponding to alternatives, columns - to criterions\n",
    "# v = np.random.randn(n, m)\n",
    "from numpy import linalg\n",
    "def calculate_local(D):\n",
    "    \"\"\"\n",
    "    D: rank 3 ndarray of shape (m, n, n). m - number of criterions, n - number of alternatives\n",
    "    Returns (m, n) ndarray where each row represents local weights according to i-th criterion (i in [0, m-1])\n",
    "    \"\"\"\n",
    "    m, n = D.shape[0], D.shape[1]\n",
    "    res = np.empty((m, n))\n",
    "    for idx in range(m):\n",
    "        w, v = linalg.eig(D[idx, :, :])\n",
    "        v_max = np.real(v[np.argmax(w)])\n",
    "        res[idx, :] = v_max\n",
    "    return res\n",
    "v = calculate_local(D)\n",
    "v"
   ]
  },
  {
   "cell_type": "markdown",
   "metadata": {},
   "source": [
    "# Methods for finding global normed weights of alternatives"
   ]
  },
  {
   "cell_type": "code",
   "execution_count": 6,
   "metadata": {},
   "outputs": [],
   "source": [
    "# distributive synthesis approach\n",
    "def distributed_synthesis(w_crit, v):\n",
    "    \"\"\"\n",
    "    Computes global weights\n",
    "    \"\"\"\n",
    "    n, m = v.shape\n",
    "    w_glob = np.empty(n)\n",
    "    for i in range(n):\n",
    "        # compute 'w_globe' components one by one\n",
    "        r = v[i, :] / np.sum(v[:, i])\n",
    "        r = r.reshape(m, 1)\n",
    "        print(\"w_crit.shape =\", w_crit.shape)\n",
    "        print(\"r.shape =\", r.shape)\n",
    "        w_glob[i] = np.dot(w_crit.T, r)\n",
    "    return w_glob"
   ]
  },
  {
   "cell_type": "code",
   "execution_count": 7,
   "metadata": {},
   "outputs": [
    {
     "ename": "NameError",
     "evalue": "name 'w_crit' is not defined",
     "output_type": "error",
     "traceback": [
      "\u001b[0;31m---------------------------------------------------------------------------\u001b[0m",
      "\u001b[0;31mNameError\u001b[0m                                 Traceback (most recent call last)",
      "\u001b[0;32m<ipython-input-7-e65cef4d8542>\u001b[0m in \u001b[0;36m<module>\u001b[0;34m\u001b[0m\n\u001b[0;32m----> 1\u001b[0;31m \u001b[0mprint\u001b[0m\u001b[0;34m(\u001b[0m\u001b[0mdistributed_synthesis\u001b[0m\u001b[0;34m(\u001b[0m\u001b[0mw_crit\u001b[0m\u001b[0;34m,\u001b[0m \u001b[0mv\u001b[0m\u001b[0;34m)\u001b[0m\u001b[0;34m.\u001b[0m\u001b[0mshape\u001b[0m\u001b[0;34m)\u001b[0m\u001b[0;34m\u001b[0m\u001b[0;34m\u001b[0m\u001b[0m\n\u001b[0m\u001b[1;32m      2\u001b[0m \u001b[0mprint\u001b[0m\u001b[0;34m(\u001b[0m\u001b[0mdistributed_synthesis\u001b[0m\u001b[0;34m(\u001b[0m\u001b[0mw_crit\u001b[0m\u001b[0;34m,\u001b[0m \u001b[0mv\u001b[0m\u001b[0;34m)\u001b[0m\u001b[0;34m)\u001b[0m\u001b[0;34m\u001b[0m\u001b[0;34m\u001b[0m\u001b[0m\n",
      "\u001b[0;31mNameError\u001b[0m: name 'w_crit' is not defined"
     ]
    }
   ],
   "source": [
    "print(distributed_synthesis(w_crit, v).shape)\n",
    "print(distributed_synthesis(w_crit, v))"
   ]
  },
  {
   "cell_type": "code",
   "execution_count": null,
   "metadata": {},
   "outputs": [],
   "source": [
    "w_glob = distributed_synthesis(w_crit, v)\n",
    "print(np.sum(w_glob))"
   ]
  },
  {
   "cell_type": "code",
   "execution_count": null,
   "metadata": {},
   "outputs": [],
   "source": []
  }
 ],
 "metadata": {
  "kernelspec": {
   "display_name": "Python 3",
   "language": "python",
   "name": "python3"
  },
  "language_info": {
   "codemirror_mode": {
    "name": "ipython",
    "version": 3
   },
   "file_extension": ".py",
   "mimetype": "text/x-python",
   "name": "python",
   "nbconvert_exporter": "python",
   "pygments_lexer": "ipython3",
   "version": "3.7.3"
  }
 },
 "nbformat": 4,
 "nbformat_minor": 2
}
