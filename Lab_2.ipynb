{
 "cells": [
  {
   "cell_type": "markdown",
   "metadata": {},
   "source": [
    "### Задача (варіант 1)\n",
    "\n",
    "**Ієрархія:** p = 3, повна, m = (4, 3, 3)\n",
    "\n",
    "<img src=\"images/lab_2_hierarchy.png\" width=256>\n",
    "\n",
    "**Метод розрахунку глобальних ваг:** дистрибутивний, ГВБВПА"
   ]
  },
  {
   "cell_type": "markdown",
   "metadata": {},
   "source": [
    "*Методи аналізу альтернатив рішень на основі ієрархічної моделі критеріїв (МАІ, analytic hierarchy process, AHP)* складаються з наступних чотирьох загальних етапів:\n",
    "\n",
    "1. Побудова ієрархічної моделі критеріїв, цілей та інших факторів, які впливають на головну ціль прийняття рішення; побудова множини альтернативних варіантів рішень.\n",
    "\n",
    "2. Отримання суджень експертів щодо парних порівнянь елементів одного рівня ієрархії відносно спільного елементу вищого рівня. Парні порівняння проводяться у вибраній шкалі і за результатами будуються матриці парних порівнянь (МПП), які є обернено симетричними.\n",
    "\n",
    "3. Математична обробка суджень експертів:\n",
    "   * розрахунок локальних ваг елементів кожного рівня ієрархії відповідно до батьківських елементів вищого рівня на основі МПП; побудова локальних ранжувань;\n",
    "   * аналіз узгодженості експертних оцінок;\n",
    "   * розрахунок глобальних ваг елементів ієрархії відносно головної цілі прийняття рішення, використовуючи методи агрегування; побудова ранжування на основі глобальних ваг.\n",
    "\n",
    "4. Аналіз чутливості отриманих ранжувань.\n",
    "\n",
    "Постановка задачі:\n",
    "\n",
    "**Дано:** \n",
    " * $A = \\{A_i | i = 1, \\dots, N \\}$ - множина альтернативних варіантів рішень;\n",
    " * $C = \\{C_j | j = 1, \\dots, M \\}$ - множина критеріїв оцінювання альтернатив;\n",
    " * $a_{ij}$ - ненормована вага льтернативи $A_i$ за критерієм $C_j$;\n",
    " * $w_j^C$ - вага критерію $C_j, \\sum_{j=1}^{M} w_j^C = 1$\n",
    "\n",
    "**Потрібно:**\n",
    " * знайти глобальні ваги $w_i^{глоб}$ альтернатив $A_i, i = 1, \\dots, N$"
   ]
  },
  {
   "cell_type": "code",
   "execution_count": 1,
   "metadata": {},
   "outputs": [],
   "source": [
    "import numpy as np\n",
    "# put some fixed seed for reproducibility of the results\n",
    "np.random.seed(42)"
   ]
  },
  {
   "cell_type": "code",
   "execution_count": 2,
   "metadata": {},
   "outputs": [],
   "source": [
    "# we work with fully connected hierarcy, its architecture is defined by number of nodes per layer\n",
    "# All layers but the last 'layers[:-1]' - creiterions\n",
    "layers = [1, 4, 3, 3]\n",
    "# last layer - 'layers[-1]' - alternatives\n",
    "num_alternatives = layers[-1]\n",
    "# number of layers\n",
    "p = len(layers) - 1"
   ]
  },
  {
   "cell_type": "markdown",
   "metadata": {},
   "source": [
    "Функція для генерування коректної матриці парних порівнянь для мультиплікативної групи"
   ]
  },
  {
   "cell_type": "code",
   "execution_count": 3,
   "metadata": {},
   "outputs": [],
   "source": [
    "def generate_matched_matrix(dim, low=1, high=10):\n",
    "    \"\"\"\n",
    "    Generates matched multiplicational matrix mmp i.e. \\forall i \\in [0, n-1]: mpp[i][i] = 1;\n",
    "    \\forall i, j i \\neq j: mpp[i][j] = 1 / mpp[j][i]\n",
    "    Returns 2D matched matrix of shape (dim, dim)\n",
    "    \"\"\"\n",
    "    mmp = np.zeros((dim, dim))\n",
    "    temp = np.random.randint(low, high, size=dim).astype(float)\n",
    "    powers = np.random.choice(3, size=dim, p=[0.5, 0, 0.5]) - 1\n",
    "    mmp[0, :] = np.power(temp, powers)\n",
    "    j = 0\n",
    "    for i in range(1, dim):\n",
    "        mmp[i, j] = 1 / mmp[j, i]\n",
    "    for i in range(1, dim):\n",
    "        for j in range(1, dim):\n",
    "            mmp[i, j] = mmp[i, 0] * mmp[0, j]\n",
    "    mmp[0][0] = 1\n",
    "    return mmp"
   ]
  },
  {
   "cell_type": "markdown",
   "metadata": {},
   "source": [
    "# Data generation\n",
    "\n",
    "Генеруємо матриці парних порівнянь.\n",
    "\n",
    "Наша ієрархія - (4, 3, 3), фактично працюємо з ієрархією (1, 4, 3, 3). Тобто експертами формуються наступні матриці парних порівнянь\n",
    "* 4x4x1 - парні порівняння 4 критеріїв відносно 1 критерію (мети)\n",
    "* 3x3x4 - парні порівняння 3 підкритеріїв відносно 4 критеріїв\n",
    "* 3х3х3 - парні порівняння 3 альтернатив відносно 3 підкритеріїв\n",
    "\n",
    "Отримані дані об'єднаємо в список."
   ]
  },
  {
   "cell_type": "code",
   "execution_count": 4,
   "metadata": {},
   "outputs": [
    {
     "name": "stdout",
     "output_type": "stream",
     "text": [
      "(4, 4, 1)\n",
      "[[[1.00e+00]\n",
      "  [2.50e-01]\n",
      "  [1.25e-01]\n",
      "  [5.00e+00]]\n",
      "\n",
      " [[4.00e+00]\n",
      "  [1.00e+00]\n",
      "  [5.00e-01]\n",
      "  [2.00e+01]]\n",
      "\n",
      " [[8.00e+00]\n",
      "  [2.00e+00]\n",
      "  [1.00e+00]\n",
      "  [4.00e+01]]\n",
      "\n",
      " [[2.00e-01]\n",
      "  [5.00e-02]\n",
      "  [2.50e-02]\n",
      "  [1.00e+00]]]\n",
      "********************************************************************************\n",
      "(3, 3, 4)\n",
      "[[[1.00000000e+00 1.00000000e+00 1.00000000e+00 1.00000000e+00]\n",
      "  [1.25000000e-01 2.00000000e+00 1.00000000e+00 3.33333333e-01]\n",
      "  [8.00000000e+00 2.00000000e-01 3.33333333e-01 7.00000000e+00]]\n",
      "\n",
      " [[8.00000000e+00 5.00000000e-01 1.00000000e+00 3.00000000e+00]\n",
      "  [1.00000000e+00 1.00000000e+00 1.00000000e+00 1.00000000e+00]\n",
      "  [6.40000000e+01 1.00000000e-01 3.33333333e-01 2.10000000e+01]]\n",
      "\n",
      " [[1.25000000e-01 5.00000000e+00 3.00000000e+00 1.42857143e-01]\n",
      "  [1.56250000e-02 1.00000000e+01 3.00000000e+00 4.76190476e-02]\n",
      "  [1.00000000e+00 1.00000000e+00 1.00000000e+00 1.00000000e+00]]]\n",
      "********************************************************************************\n",
      "(3, 3, 3)\n",
      "[[[1.00000000e+00 1.00000000e+00 1.00000000e+00]\n",
      "  [1.11111111e-01 3.00000000e+00 6.00000000e+00]\n",
      "  [5.00000000e+00 1.00000000e+00 4.00000000e+00]]\n",
      "\n",
      " [[9.00000000e+00 3.33333333e-01 1.66666667e-01]\n",
      "  [1.00000000e+00 1.00000000e+00 1.00000000e+00]\n",
      "  [4.50000000e+01 3.33333333e-01 6.66666667e-01]]\n",
      "\n",
      " [[2.00000000e-01 1.00000000e+00 2.50000000e-01]\n",
      "  [2.22222222e-02 3.00000000e+00 1.50000000e+00]\n",
      "  [1.00000000e+00 1.00000000e+00 1.00000000e+00]]]\n",
      "********************************************************************************\n"
     ]
    }
   ],
   "source": [
    "# generally speaking, number of nodes can vary from layer to layer, so further we use nested lists,\n",
    "# not a np.array\n",
    "\n",
    "D = []\n",
    "for idx_curr in range(1, len(layers)):\n",
    "    d = np.empty((layers[idx_curr], layers[idx_curr], layers[idx_curr - 1]))\n",
    "    for i in range(layers[idx_curr - 1]):\n",
    "        mpp = generate_matched_matrix(layers[idx_curr])\n",
    "        d[:, :, i] = mpp\n",
    "    D.append(d)\n",
    "\n",
    "# display shapes and values of generated MPPs\n",
    "for mpp in D:\n",
    "    print(mpp.shape)\n",
    "    print(mpp)\n",
    "    print(\"*\" * 80)"
   ]
  },
  {
   "cell_type": "markdown",
   "metadata": {},
   "source": [
    "Обраховуємо локальні ваги використовуючи підхід EM з попередньої лабораторної роботи.\n",
    "\n",
    "**ЕМ метод** Згідно цього метода вектором ваг є власний вектор МПП, що відповідає її найбільшому власному числу. Тобто кожна МПП буде замінена вектором тієї ж розмірності, що і МПП. Отже на виході функції мусимо отримати список тензорів наступної розмірності:\n",
    "\n",
    "* 4х1\n",
    "* 3х1\n",
    "* 3х1"
   ]
  },
  {
   "cell_type": "code",
   "execution_count": 18,
   "metadata": {},
   "outputs": [
    {
     "data": {
      "text/plain": [
       "[array([[ 0.4239039 ],\n",
       "        [-0.44433475],\n",
       "        [ 0.13148054],\n",
       "        [ 0.13148054]]),\n",
       " array([[ 1.24019829e-01,  1.95180015e-01,  3.01511345e-01,\n",
       "         -3.15905578e-01],\n",
       "        [-1.15093573e-17, -8.72121400e-02,  5.31486451e-01,\n",
       "          1.71192270e-01],\n",
       "        [ 9.78628409e-02, -8.72121400e-02, -5.95235988e-02,\n",
       "         -2.57399587e-01]]),\n",
       " array([[ 0.1104046 ,  0.6882472 ,  0.95770426],\n",
       "        [ 0.0982167 ,  0.88598299,  0.89735882],\n",
       "        [ 0.0982167 , -0.27204132, -0.93110321]])]"
      ]
     },
     "execution_count": 18,
     "metadata": {},
     "output_type": "execute_result"
    }
   ],
   "source": [
    "# # # generate unnormed local weights of alternatives with respect to all criterions\n",
    "# # # rows are corresponding to alternatives, columns - to criterions\n",
    "# # v = np.random.randn(n, m)\n",
    "# from numpy import linalg\n",
    "# def calculate_local(D):\n",
    "#     \"\"\"\n",
    "#     D: rank 3 ndarray of shape (m, n, n). m - number of criterions, n - number of alternatives\n",
    "#     Returns (m, n) ndarray where each row represents local weights according to i-th criterion (i in [0, m-1])\n",
    "#     \"\"\"\n",
    "#     m, n = D.shape[0], D.shape[1]\n",
    "#     res = np.empty((m, n))\n",
    "#     for idx in range(m):\n",
    "#         w, v = linalg.eig(D[idx, :, :])\n",
    "#         v_max = np.real(v[np.argmax(w)])\n",
    "#         res[idx, :] = v_max\n",
    "#     return res\n",
    "# v = calculate_local(D)\n",
    "# v\n",
    "\n",
    "def _get_max_eigenval_eigenvec(matrix):\n",
    "    \"\"\"\n",
    "    Requires special matrices for the input.\n",
    "    mat: 2D numpy array\n",
    "    return: eigenvector corresponding to the max eigenvalue\n",
    "    \"\"\"\n",
    "    w, v = np.linalg.eig(matrix)\n",
    "    w_max = np.real(np.max(w))\n",
    "    v_max = np.real(v[np.argmax(w)])\n",
    "    return v_max\n",
    "\n",
    "def calculate_local(D):\n",
    "    \"\"\"\n",
    "    D: list of rank 3 tensors - MPPs - of shape (n_curr, n_curr, n_prev)\n",
    "    return: \n",
    "    \"\"\"\n",
    "    # create list which we will return\n",
    "    res = []\n",
    "    for i in range(len(D)):\n",
    "        res.append(np.empty(D[i].shape[1:]))\n",
    "#         print(res[i].shape)\n",
    "    # for each set of MPP for current layer\n",
    "    for idx_mpps_group in range(len(D)):\n",
    "#         print(D[idx_mpps_group].shape)\n",
    "        # we iterate over the last, 2nd dimension\n",
    "        for idx_mpp in range(D[idx_mpps_group].shape[-1]):\n",
    "            mpp = D[idx_mpps_group][:, :, idx_mpp]\n",
    "#             print(mpp.shape)\n",
    "            v_max = _get_max_eigenval_eigenvec(mpp)\n",
    "            res[idx_mpps_group][:, idx_mpp] = v_max\n",
    "    return res\n",
    "local_weights = calculate_local(D)\n",
    "local_weights"
   ]
  },
  {
   "cell_type": "code",
   "execution_count": 21,
   "metadata": {},
   "outputs": [
    {
     "name": "stdout",
     "output_type": "stream",
     "text": [
      "1.0\n",
      "1.0\n",
      "1.0\n"
     ]
    }
   ],
   "source": [
    "lst_1 = [0.18148095867689784, 0.5133056661466803, 0.30521337517642183];\n",
    "print(sum(lst_1))\n",
    "lst_2 = [0.38356076046023996, 0.38356076046023996, 0.23287847907952017];\n",
    "print(sum(lst_2))\n",
    "lst_3 = [0.32087543988563444,\n",
    "  0.1482822537233742,\n",
    "  0.29837197692374073,\n",
    "  0.23247032946725066]\n",
    "print(sum(lst_3))"
   ]
  },
  {
   "cell_type": "markdown",
   "metadata": {},
   "source": [
    "# Methods for finding global normed weights of alternatives"
   ]
  },
  {
   "cell_type": "code",
   "execution_count": null,
   "metadata": {},
   "outputs": [],
   "source": [
    "# distributive synthesis approach\n",
    "def distributed_synthesis(w_crit, v):\n",
    "    \"\"\"\n",
    "    Computes global weights\n",
    "    \"\"\"\n",
    "    n, m = v.shape\n",
    "    w_glob = np.empty(n)\n",
    "    for i in range(n):\n",
    "        # compute 'w_globe' components one by one\n",
    "        r = v[i, :] / np.sum(v[:, i])\n",
    "        r = r.reshape(m, 1)\n",
    "        print(\"w_crit.shape =\", w_crit.shape)\n",
    "        print(\"r.shape =\", r.shape)\n",
    "        w_glob[i] = np.dot(w_crit.T, r)\n",
    "    return w_glob"
   ]
  },
  {
   "cell_type": "code",
   "execution_count": null,
   "metadata": {},
   "outputs": [],
   "source": [
    "print(distributed_synthesis(w_crit, v).shape)\n",
    "print(distributed_synthesis(w_crit, v))"
   ]
  },
  {
   "cell_type": "code",
   "execution_count": null,
   "metadata": {},
   "outputs": [],
   "source": [
    "w_glob = distributed_synthesis(w_crit, v)\n",
    "print(np.sum(w_glob))"
   ]
  },
  {
   "cell_type": "code",
   "execution_count": null,
   "metadata": {},
   "outputs": [],
   "source": []
  }
 ],
 "metadata": {
  "kernelspec": {
   "display_name": "Python 3",
   "language": "python",
   "name": "python3"
  },
  "language_info": {
   "codemirror_mode": {
    "name": "ipython",
    "version": 3
   },
   "file_extension": ".py",
   "mimetype": "text/x-python",
   "name": "python",
   "nbconvert_exporter": "python",
   "pygments_lexer": "ipython3",
   "version": "3.7.3"
  }
 },
 "nbformat": 4,
 "nbformat_minor": 2
}
