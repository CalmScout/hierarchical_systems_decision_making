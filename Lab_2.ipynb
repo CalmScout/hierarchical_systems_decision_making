{
 "cells": [
  {
   "cell_type": "markdown",
   "metadata": {},
   "source": [
    "### Задача (варіант 1)\n",
    "\n",
    "**Ієрархія:** p = 3, повна, m = (4, 3, 3)\n",
    "\n",
    "<img src=\"images/lab_2_hierarchy.png\" width=256>\n",
    "\n",
    "**Метод розрахунку глобальних ваг:** дистрибутивний, ГВБВПА"
   ]
  },
  {
   "cell_type": "markdown",
   "metadata": {},
   "source": [
    "*Методи аналізу альтернатив рішень на основі ієрархічної моделі критеріїв (МАІ, analytic hierarchy process, AHP)* складаються з наступних чотирьох загальних етапів:\n",
    "\n",
    "1. Побудова ієрархічної моделі критеріїв, цілей та інших факторів, які впливають на головну ціль прийняття рішення; побудова множини альтернативних варіантів рішень.\n",
    "\n",
    "2. Отримання суджень експертів щодо парних порівнянь елементів одного рівня ієрархії відносно спільного елементу вищого рівня. Парні порівняння проводяться у вибраній шкалі і за результатами будуються матриці парних порівнянь (МПП), які є обернено симетричними.\n",
    "\n",
    "3. Математична обробка суджень експертів:\n",
    "   * розрахунок локальних ваг елементів кожного рівня ієрархії відповідно до батьківських елементів вищого рівня на основі МПП; побудова локальних ранжувань;\n",
    "   * аналіз узгодженості експертних оцінок;\n",
    "   * розрахунок глобальних ваг елементів ієрархії відносно головної цілі прийняття рішення, використовуючи методи агрегування; побудова ранжування на основі глобальних ваг.\n",
    "\n",
    "4. Аналіз чутливості отриманих ранжувань.\n",
    "\n",
    "Постановка задачі:\n",
    "\n",
    "**Дано:** \n",
    " * $A = \\{A_i | i = 1, \\dots, N \\}$ - множина альтернативних варіантів рішень;\n",
    " * $C = \\{C_j | j = 1, \\dots, M \\}$ - множина критеріїв оцінювання альтернатив;\n",
    " * $a_{ij}$ - ненормована вага льтернативи $A_i$ за критерієм $C_j$;\n",
    " * $w_j^C$ - вага критерію $C_j, \\sum_{j=1}^{M} w_j^C = 1$\n",
    "\n",
    "**Потрібно:**\n",
    " * знайти глобальні ваги $w_i^{глоб}$ альтернатив $A_i, i = 1, \\dots, N$"
   ]
  },
  {
   "cell_type": "code",
   "execution_count": 1,
   "metadata": {},
   "outputs": [],
   "source": [
    "import numpy as np"
   ]
  },
  {
   "cell_type": "code",
   "execution_count": 2,
   "metadata": {},
   "outputs": [],
   "source": [
    "# number of alternatives\n",
    "n = 4\n",
    "# number of criterions C\n",
    "m = 2"
   ]
  },
  {
   "cell_type": "markdown",
   "metadata": {},
   "source": [
    "Функція для генерування коректної матриці парних порівнянь для мультиплікативної групи"
   ]
  },
  {
   "cell_type": "code",
   "execution_count": 3,
   "metadata": {},
   "outputs": [],
   "source": [
    "def _generate_random_list(n, low=1, high=9):\n",
    "    \"\"\"\n",
    "    Generates a list consisting from 'n' elementswith uniform sampled values between 'low' and \n",
    "    'high' including and their multiplicative inverse elements.\n",
    "    \"\"\"\n",
    "    elements = list(range(low, high + 1))\n",
    "    elements_all = elements[:]\n",
    "    for el in elements[1:]:\n",
    "        elements_all.append(1 / el)\n",
    "    prob_list = [1 / len(elements_all)] * len(elements_all)\n",
    "    res = np.random.choice(elements_all, n, p=prob_list)\n",
    "    return res\n",
    "\n",
    "def generate_matched_matrix(n, low=1, high=9):\n",
    "    \"\"\"\n",
    "    Generates matched multiplicational matrix.\n",
    "    \"\"\"\n",
    "    mmp = np.zeros((n, n))\n",
    "    mmp[0, :] = _generate_random_list(n, low=low, high=high)\n",
    "    j = 0\n",
    "    for i in range(1, n):\n",
    "        mmp[i, j] = 1 / mmp[j, i]\n",
    "    for i in range(1, n):\n",
    "        for j in range(1, n):\n",
    "            mmp[i, j] = mmp[i, 0] * mmp[0, j]\n",
    "    mmp[0][0] = 1\n",
    "    return mmp"
   ]
  },
  {
   "cell_type": "markdown",
   "metadata": {},
   "source": [
    "# Data generation\n",
    "\n",
    "Генеруємо матриці парних порівнянь, та ваги критеріїв."
   ]
  },
  {
   "cell_type": "code",
   "execution_count": 4,
   "metadata": {},
   "outputs": [
    {
     "ename": "NameError",
     "evalue": "name 'd' is not defined",
     "output_type": "error",
     "traceback": [
      "\u001b[0;31m---------------------------------------------------------------------------\u001b[0m",
      "\u001b[0;31mNameError\u001b[0m                                 Traceback (most recent call last)",
      "\u001b[0;32m<ipython-input-4-f6bffed7564c>\u001b[0m in \u001b[0;36m<module>\u001b[0;34m\u001b[0m\n\u001b[1;32m      4\u001b[0m \u001b[0mD\u001b[0m \u001b[0;34m=\u001b[0m \u001b[0mnp\u001b[0m\u001b[0;34m.\u001b[0m\u001b[0mempty\u001b[0m\u001b[0;34m(\u001b[0m\u001b[0;34m(\u001b[0m\u001b[0mm\u001b[0m\u001b[0;34m,\u001b[0m \u001b[0mn\u001b[0m\u001b[0;34m,\u001b[0m \u001b[0mn\u001b[0m\u001b[0;34m)\u001b[0m\u001b[0;34m)\u001b[0m\u001b[0;34m\u001b[0m\u001b[0;34m\u001b[0m\u001b[0m\n\u001b[1;32m      5\u001b[0m \u001b[0;32mfor\u001b[0m \u001b[0mi\u001b[0m \u001b[0;32min\u001b[0m \u001b[0mrange\u001b[0m\u001b[0;34m(\u001b[0m\u001b[0mm\u001b[0m\u001b[0;34m)\u001b[0m\u001b[0;34m:\u001b[0m\u001b[0;34m\u001b[0m\u001b[0;34m\u001b[0m\u001b[0m\n\u001b[0;32m----> 6\u001b[0;31m     \u001b[0md\u001b[0m\u001b[0;34m[\u001b[0m\u001b[0mi\u001b[0m\u001b[0;34m,\u001b[0m \u001b[0;34m:\u001b[0m\u001b[0;34m,\u001b[0m \u001b[0;34m:\u001b[0m\u001b[0;34m]\u001b[0m \u001b[0;34m=\u001b[0m \u001b[0mgenerate_matched_matrix\u001b[0m\u001b[0;34m(\u001b[0m\u001b[0mn\u001b[0m\u001b[0;34m)\u001b[0m\u001b[0;34m\u001b[0m\u001b[0;34m\u001b[0m\u001b[0m\n\u001b[0m\u001b[1;32m      7\u001b[0m \u001b[0;34m\u001b[0m\u001b[0m\n\u001b[1;32m      8\u001b[0m \u001b[0;31m# weights of criterions\u001b[0m\u001b[0;34m\u001b[0m\u001b[0;34m\u001b[0m\u001b[0;34m\u001b[0m\u001b[0m\n",
      "\u001b[0;31mNameError\u001b[0m: name 'd' is not defined"
     ]
    }
   ],
   "source": [
    "# put some fixed seed for reproducibility of the results\n",
    "np.random.seed(42)\n",
    "# matrices of pair comparisons according to each of 'm' criterion\n",
    "D = np.empty((m, n, n))\n",
    "for i in range(m):\n",
    "    d[i, :, :] = generate_matched_matrix(n)\n",
    "    \n",
    "# weights of criterions\n",
    "w_crit = np.random.randn(m, 1)\n",
    "w_crit = w_crit / np.sum(w_crit)"
   ]
  },
  {
   "cell_type": "markdown",
   "metadata": {},
   "source": [
    "Обраховуємо локальні ваги використовуючи підхід EM з попередньої лабораторної роботи"
   ]
  },
  {
   "cell_type": "code",
   "execution_count": 5,
   "metadata": {},
   "outputs": [
    {
     "data": {
      "text/plain": [
       "array([[ 1.52504049e-05,  1.52504049e-05,  5.44849645e-42,\n",
       "         5.27080999e-44],\n",
       "       [ 1.00000000e+00, -1.00000000e+00, -1.00000000e+00,\n",
       "        -1.00000000e+00]])"
      ]
     },
     "execution_count": 5,
     "metadata": {},
     "output_type": "execute_result"
    }
   ],
   "source": [
    "# # generate unnormed local weights of alternatives with respect to all criterions\n",
    "# # rows are corresponding to alternatives, columns - to criterions\n",
    "# v = np.random.randn(n, m)\n",
    "from numpy import linalg\n",
    "def calculate_local(D):\n",
    "    \"\"\"\n",
    "    D: rank 3 ndarray of shape (m, n, n). m - number of criterions, n - number of alternatives\n",
    "    Returns (m, n) ndarray where each row represents local weights according to i-th criterion (i in [0, m-1])\n",
    "    \"\"\"\n",
    "    m, n = D.shape[0], D.shape[1]\n",
    "    res = np.empty((m, n))\n",
    "    for idx in range(m):\n",
    "        w, v = linalg.eig(D[idx, :, :])\n",
    "        v_max = np.real(v[np.argmax(w)])\n",
    "        res[idx, :] = v_max\n",
    "    return res\n",
    "v = calculate_local(D)\n",
    "v"
   ]
  },
  {
   "cell_type": "markdown",
   "metadata": {},
   "source": [
    "# Methods for finding global normed weights of alternatives"
   ]
  },
  {
   "cell_type": "code",
   "execution_count": 6,
   "metadata": {},
   "outputs": [],
   "source": [
    "# distributive synthesis approach\n",
    "def distributed_synthesis(w_crit, v):\n",
    "    \"\"\"\n",
    "    Computes global weights\n",
    "    \"\"\"\n",
    "    n, m = v.shape\n",
    "    w_glob = np.empty(n)\n",
    "    for i in range(n):\n",
    "        # compute 'w_globe' components one by one\n",
    "        r = v[i, :] / np.sum(v[:, i])\n",
    "        r = r.reshape(m, 1)\n",
    "        print(\"w_crit.shape =\", w_crit.shape)\n",
    "        print(\"r.shape =\", r.shape)\n",
    "        w_glob[i] = np.dot(w_crit.T, r)\n",
    "    return w_glob"
   ]
  },
  {
   "cell_type": "code",
   "execution_count": 7,
   "metadata": {},
   "outputs": [
    {
     "ename": "NameError",
     "evalue": "name 'w_crit' is not defined",
     "output_type": "error",
     "traceback": [
      "\u001b[0;31m---------------------------------------------------------------------------\u001b[0m",
      "\u001b[0;31mNameError\u001b[0m                                 Traceback (most recent call last)",
      "\u001b[0;32m<ipython-input-7-e65cef4d8542>\u001b[0m in \u001b[0;36m<module>\u001b[0;34m\u001b[0m\n\u001b[0;32m----> 1\u001b[0;31m \u001b[0mprint\u001b[0m\u001b[0;34m(\u001b[0m\u001b[0mdistributed_synthesis\u001b[0m\u001b[0;34m(\u001b[0m\u001b[0mw_crit\u001b[0m\u001b[0;34m,\u001b[0m \u001b[0mv\u001b[0m\u001b[0;34m)\u001b[0m\u001b[0;34m.\u001b[0m\u001b[0mshape\u001b[0m\u001b[0;34m)\u001b[0m\u001b[0;34m\u001b[0m\u001b[0;34m\u001b[0m\u001b[0m\n\u001b[0m\u001b[1;32m      2\u001b[0m \u001b[0mprint\u001b[0m\u001b[0;34m(\u001b[0m\u001b[0mdistributed_synthesis\u001b[0m\u001b[0;34m(\u001b[0m\u001b[0mw_crit\u001b[0m\u001b[0;34m,\u001b[0m \u001b[0mv\u001b[0m\u001b[0;34m)\u001b[0m\u001b[0;34m)\u001b[0m\u001b[0;34m\u001b[0m\u001b[0;34m\u001b[0m\u001b[0m\n",
      "\u001b[0;31mNameError\u001b[0m: name 'w_crit' is not defined"
     ]
    }
   ],
   "source": [
    "print(distributed_synthesis(w_crit, v).shape)\n",
    "print(distributed_synthesis(w_crit, v))"
   ]
  },
  {
   "cell_type": "code",
   "execution_count": null,
   "metadata": {},
   "outputs": [],
   "source": [
    "w_glob = distributed_synthesis(w_crit, v)\n",
    "print(np.sum(w_glob))"
   ]
  },
  {
   "cell_type": "code",
   "execution_count": null,
   "metadata": {},
   "outputs": [],
   "source": []
  }
 ],
 "metadata": {
  "kernelspec": {
   "display_name": "Python 3",
   "language": "python",
   "name": "python3"
  },
  "language_info": {
   "codemirror_mode": {
    "name": "ipython",
    "version": 3
   },
   "file_extension": ".py",
   "mimetype": "text/x-python",
   "name": "python",
   "nbconvert_exporter": "python",
   "pygments_lexer": "ipython3",
   "version": "3.7.3"
  }
 },
 "nbformat": 4,
 "nbformat_minor": 2
}
