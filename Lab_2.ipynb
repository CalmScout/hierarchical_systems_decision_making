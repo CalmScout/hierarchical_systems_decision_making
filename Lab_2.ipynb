{
 "cells": [
  {
   "cell_type": "markdown",
   "metadata": {},
   "source": [
    "### Задача (варіант 1)\n",
    "\n",
    "**Ієрархія:** p = 3, повна, m = (4, 3, 3)\n",
    "\n",
    "<img src=\"images/lab_2_hierarchy.png\" width=256>\n",
    "\n",
    "**Метод розрахунку глобальних ваг:** дистрибутивний, ГВБВПА"
   ]
  },
  {
   "cell_type": "markdown",
   "metadata": {},
   "source": [
    "*Методи аналізу альтернатив рішень на основі ієрархічної моделі критеріїв (МАІ, analytic hierarchy process, AHP)* складаються з наступних чотирьох загальних етапів:\n",
    "\n",
    "1. Побудова ієрархічної моделі критеріїв, цілей та інших факторів, які впливають на головну ціль прийняття рішення; побудова множини альтернативних варіантів рішень.\n",
    "\n",
    "2. Отримання суджень експертів щодо парних порівнянь елементів одного рівня ієрархії відносно спільного елементу вищого рівня. Парні порівняння проводяться у вибраній шкалі і за результатами будуються матриці парних порівнянь (МПП), які є обернено симетричними.\n",
    "\n",
    "3. Математична обробка суджень експертів:\n",
    "   * розрахунок локальних ваг елементів кожного рівня ієрархії відповідно до батьківських елементів вищого рівня на основі МПП; побудова локальних ранжувань;\n",
    "   * аналіз узгодженості експертних оцінок;\n",
    "   * розрахунок глобальних ваг елементів ієрархії відносно головної цілі прийняття рішення, використовуючи методи агрегування; побудова ранжування на основі глобальних ваг.\n",
    "\n",
    "4. Аналіз чутливості отриманих ранжувань.\n",
    "\n",
    "Постановка задачі:\n",
    "\n",
    "**Дано:** \n",
    " * $A = \\{A_i | i = 1, \\dots, N \\}$ - множина альтернативних варіантів рішень;\n",
    " * $C = \\{C_j | j = 1, \\dots, M \\}$ - множина критеріїв оцінювання альтернатив;\n",
    " * $a_{ij}$ - ненормована вага льтернативи $A_i$ за критерієм $C_j$;\n",
    " * $w_j^C$ - вага критерію $C_j, \\sum_{j=1}^{M} w_j^C = 1$\n",
    "\n",
    "**Потрібно:**\n",
    " * знайти глобальні ваги $w_i^{глоб}$ альтернатив $A_i, i = 1, \\dots, N$"
   ]
  },
  {
   "cell_type": "markdown",
   "metadata": {},
   "source": [
    "***Методи аналізу альтернатив рішень на основі ієрархічної моделі критеріїв (МАІ, analytic hierarchy process, AHP) складаються з наступних чотирьох загальних етапів:***\n",
    "\n",
    "\n",
    "***1.*** Побудова ієрархічної моделі критеріїв, цілей та інших факторів, які впливають на головну ціль прийняття рішення; побудова множини альтернативних варіантів рішень - цей етап зроблено за нас - ієрархія (4, 3, 3) (тобто (1, 4, 3, 3) враховуючи мету)"
   ]
  },
  {
   "cell_type": "code",
   "execution_count": 1,
   "metadata": {},
   "outputs": [],
   "source": [
    "import numpy as np\n",
    "# put some fixed seed for reproducibility of the results\n",
    "np.random.seed(42)"
   ]
  },
  {
   "cell_type": "code",
   "execution_count": 2,
   "metadata": {},
   "outputs": [],
   "source": [
    "# we work with fully connected hierarcy, its architecture is defined by number of nodes per layer\n",
    "# All layers but the last 'layers[:-1]' - creiterions\n",
    "layers = [1, 4, 3, 3]\n",
    "# last layer - 'layers[-1]' - alternatives\n",
    "num_alternatives = layers[-1]\n",
    "# number of layers\n",
    "p = len(layers) - 1"
   ]
  },
  {
   "cell_type": "markdown",
   "metadata": {},
   "source": [
    "Функція для генерування коректної матриці парних порівнянь для мультиплікативної групи"
   ]
  },
  {
   "cell_type": "code",
   "execution_count": 3,
   "metadata": {},
   "outputs": [],
   "source": [
    "def generate_matched_matrix(dim, low=1, high=10):\n",
    "    \"\"\"\n",
    "    Generates matched multiplicational matrix mmp i.e. \\forall i \\in [0, n-1]: mpp[i][i] = 1;\n",
    "    \\forall i, j i \\neq j: mpp[i][j] = 1 / mpp[j][i]\n",
    "    Returns 2D matched matrix of shape (dim, dim)\n",
    "    \"\"\"\n",
    "    mmp = np.zeros((dim, dim))\n",
    "    temp = np.random.randint(low, high, size=dim).astype(float)\n",
    "    powers = np.random.choice(3, size=dim, p=[0.5, 0, 0.5]) - 1\n",
    "    mmp[0, :] = np.power(temp, powers)\n",
    "    j = 0\n",
    "    for i in range(1, dim):\n",
    "        mmp[i, j] = 1 / mmp[j, i]\n",
    "    for i in range(1, dim):\n",
    "        for j in range(1, dim):\n",
    "            mmp[i, j] = mmp[i, 0] * mmp[0, j]\n",
    "    mmp[0][0] = 1\n",
    "    return mmp"
   ]
  },
  {
   "cell_type": "markdown",
   "metadata": {},
   "source": [
    "# Data generation\n",
    "\n",
    "***2.*** Отримання суджень експертів щодо парних порівнянь елементів одного рівня ієрархії відносно спільного елементу вищого рівня. Парні порівняння проводяться у вибраній шкалі і за результатами будуються матриці парних порівнянь (МПП), які є обернено симетричними.\n",
    "\n",
    "Генеруємо матриці парних порівнянь - замість опитування експертів.\n",
    "\n",
    "Наша ієрархія - (4, 3, 3), фактично працюємо з ієрархією (1, 4, 3, 3). Тобто експертами формуються наступні матриці парних порівнянь\n",
    "* 4x4x1 - парні порівняння 4 критеріїв відносно 1 критерію (мети)\n",
    "* 3x3x4 - парні порівняння 3 підкритеріїв відносно 4 критеріїв\n",
    "* 3х3х3 - парні порівняння 3 альтернатив відносно 3 підкритеріїв\n",
    "\n",
    "Отримані дані об'єднаємо в список."
   ]
  },
  {
   "cell_type": "code",
   "execution_count": 4,
   "metadata": {},
   "outputs": [
    {
     "name": "stdout",
     "output_type": "stream",
     "text": [
      "(4, 4, 1)\n",
      "[[[1.00e+00]\n",
      "  [2.50e-01]\n",
      "  [1.25e-01]\n",
      "  [5.00e+00]]\n",
      "\n",
      " [[4.00e+00]\n",
      "  [1.00e+00]\n",
      "  [5.00e-01]\n",
      "  [2.00e+01]]\n",
      "\n",
      " [[8.00e+00]\n",
      "  [2.00e+00]\n",
      "  [1.00e+00]\n",
      "  [4.00e+01]]\n",
      "\n",
      " [[2.00e-01]\n",
      "  [5.00e-02]\n",
      "  [2.50e-02]\n",
      "  [1.00e+00]]]\n",
      "********************************************************************************\n",
      "(3, 3, 4)\n",
      "[[[1.00000000e+00 1.00000000e+00 1.00000000e+00 1.00000000e+00]\n",
      "  [1.25000000e-01 2.00000000e+00 1.00000000e+00 3.33333333e-01]\n",
      "  [8.00000000e+00 2.00000000e-01 3.33333333e-01 7.00000000e+00]]\n",
      "\n",
      " [[8.00000000e+00 5.00000000e-01 1.00000000e+00 3.00000000e+00]\n",
      "  [1.00000000e+00 1.00000000e+00 1.00000000e+00 1.00000000e+00]\n",
      "  [6.40000000e+01 1.00000000e-01 3.33333333e-01 2.10000000e+01]]\n",
      "\n",
      " [[1.25000000e-01 5.00000000e+00 3.00000000e+00 1.42857143e-01]\n",
      "  [1.56250000e-02 1.00000000e+01 3.00000000e+00 4.76190476e-02]\n",
      "  [1.00000000e+00 1.00000000e+00 1.00000000e+00 1.00000000e+00]]]\n",
      "********************************************************************************\n",
      "(3, 3, 3)\n",
      "[[[1.00000000e+00 1.00000000e+00 1.00000000e+00]\n",
      "  [1.11111111e-01 3.00000000e+00 6.00000000e+00]\n",
      "  [5.00000000e+00 1.00000000e+00 4.00000000e+00]]\n",
      "\n",
      " [[9.00000000e+00 3.33333333e-01 1.66666667e-01]\n",
      "  [1.00000000e+00 1.00000000e+00 1.00000000e+00]\n",
      "  [4.50000000e+01 3.33333333e-01 6.66666667e-01]]\n",
      "\n",
      " [[2.00000000e-01 1.00000000e+00 2.50000000e-01]\n",
      "  [2.22222222e-02 3.00000000e+00 1.50000000e+00]\n",
      "  [1.00000000e+00 1.00000000e+00 1.00000000e+00]]]\n",
      "********************************************************************************\n"
     ]
    }
   ],
   "source": [
    "# generally speaking, number of nodes can vary from layer to layer, so further we use nested lists,\n",
    "# not a np.array\n",
    "\n",
    "D = []\n",
    "for idx_curr in range(1, len(layers)):\n",
    "    d = np.empty((layers[idx_curr], layers[idx_curr], layers[idx_curr - 1]))\n",
    "    for i in range(layers[idx_curr - 1]):\n",
    "        mpp = generate_matched_matrix(layers[idx_curr])\n",
    "        d[:, :, i] = mpp\n",
    "    D.append(d)\n",
    "\n",
    "# display shapes and values of generated MPPs\n",
    "for mpp in D:\n",
    "    print(mpp.shape)\n",
    "    print(mpp)\n",
    "    print(\"*\" * 80)"
   ]
  },
  {
   "cell_type": "code",
   "execution_count": 5,
   "metadata": {},
   "outputs": [
    {
     "name": "stdout",
     "output_type": "stream",
     "text": [
      "Criteria weights in given hierarchy:\n",
      "[1.]\n",
      "[0.3574885  0.23886437 0.36829388 0.03535325]\n",
      "[0.34592914 0.07983064 0.57424022]\n"
     ]
    }
   ],
   "source": [
    "# generate weight of each criteria on the each layer\n",
    "# again since number of criteria may vary from layer to layer we use Python's list to keep them\n",
    "criteria_weights_lst = []\n",
    "for num_of_crit in layers[:-1]:\n",
    "    tmp = np.random.rand(num_of_crit)\n",
    "    tmp /= np.linalg.norm(tmp, ord=1)\n",
    "    criteria_weights_lst.append(tmp)\n",
    "\n",
    "print(\"Criteria weights in given hierarchy:\")\n",
    "for criteria_weights in criteria_weights_lst:\n",
    "    print(criteria_weights)"
   ]
  },
  {
   "cell_type": "markdown",
   "metadata": {},
   "source": [
    "***3.*** Математична обробка суджень експертів:\n",
    "\n",
    "* розрахунок локальних ваг елементів кожного рівня ієрархії відповідно до батьківських елементів вищого рівня на основі МПП; побудова локальних ранжувань;\n",
    "* аналіз узгодженості експертних оцінок;\n",
    "* розрахунок глобальних ваг елементів ієрархії відносно головної цілі прийняття рішення, використовуючи методи агрегування; побудова ранжування на основі глобальних ваг."
   ]
  },
  {
   "cell_type": "markdown",
   "metadata": {},
   "source": [
    "Обраховуємо локальні ваги використовуючи підхід EM з попередньої лабораторної роботи.\n",
    "\n",
    "**ЕМ метод** Згідно цього метода вектором ваг є власний вектор МПП, що відповідає її найбільшому власному числу. Тобто кожна МПП буде замінена вектором тієї ж розмірності, що і МПП. Отже на виході функції мусимо отримати список тензорів наступної розмірності:\n",
    "\n",
    "* 4х1\n",
    "* 3х1\n",
    "* 3х1"
   ]
  },
  {
   "cell_type": "code",
   "execution_count": 54,
   "metadata": {
    "scrolled": true
   },
   "outputs": [
    {
     "data": {
      "text/plain": [
       "[array([[0.07575758],\n",
       "        [0.3030303 ],\n",
       "        [0.60606061],\n",
       "        [0.01515152]]),\n",
       " array([[0.10958904, 0.15384615, 0.2       , 0.24137931],\n",
       "        [0.87671233, 0.07692308, 0.2       , 0.72413793],\n",
       "        [0.01369863, 0.76923077, 0.6       , 0.03448276]]),\n",
       " array([[0.09803922, 0.42857143, 0.70588235],\n",
       "        [0.88235294, 0.14285714, 0.11764706],\n",
       "        [0.01960784, 0.42857143, 0.17647059]])]"
      ]
     },
     "execution_count": 54,
     "metadata": {},
     "output_type": "execute_result"
    }
   ],
   "source": [
    "def _get_main_w_v_power(mat):\n",
    "    \"\"\"\n",
    "    Computes main eigenvalue and main eigenvector.\n",
    "    return: main eigenvalue and eigenvector\n",
    "    \"\"\"\n",
    "    x = np.ones(mat.shape[0])\n",
    "    x /= np.linalg.norm(x, ord=1)\n",
    "    k = 30\n",
    "    D = mat\n",
    "    for idx in range(k):\n",
    "        l = np.linalg.norm(np.dot(D, x), ord=1)\n",
    "        x = np.dot(D, x) / l\n",
    "    return l, x\n",
    "\n",
    "def calculate_local(D):\n",
    "    \"\"\"\n",
    "    D: list of rank 3 tensors - MPPs - of shape (n_curr, n_curr, n_prev)\n",
    "    return: list of rank 2 tensors - local weights w.r.t. criteria\n",
    "    \"\"\"\n",
    "    # create list which we will return\n",
    "    res = []\n",
    "    for i in range(len(D)):\n",
    "        res.append(np.empty(D[i].shape[1:]))\n",
    "    # for each set of MPP for current layer\n",
    "    for idx_mpps_group in range(len(D)):\n",
    "        # we iterate over the last, 2nd dimension\n",
    "        for idx_mpp in range(D[idx_mpps_group].shape[-1]):\n",
    "            mpp = D[idx_mpps_group][:, :, idx_mpp]\n",
    "            _, v_max = _get_main_w_v_power(mpp)\n",
    "            res[idx_mpps_group][:, idx_mpp] = v_max\n",
    "    return res\n",
    "local_weights = calculate_local(D)\n",
    "local_weights"
   ]
  },
  {
   "cell_type": "code",
   "execution_count": 7,
   "metadata": {},
   "outputs": [
    {
     "name": "stdout",
     "output_type": "stream",
     "text": [
      "(4, 1)\n",
      "0 -> sum == 1.0\n",
      "(3, 4)\n",
      "0 -> sum == 1.0\n",
      "1 -> sum == 0.9999999999999999\n",
      "2 -> sum == 1.0\n",
      "3 -> sum == 1.0\n",
      "(3, 3)\n",
      "0 -> sum == 1.0\n",
      "1 -> sum == 1.0\n",
      "2 -> sum == 1.0\n"
     ]
    }
   ],
   "source": [
    "# check if we received normed local weights - compute sums of columns\n",
    "for d in local_weights:\n",
    "    print(d.shape)\n",
    "    for idx in range(d.shape[-1]):\n",
    "        print(f\"{idx} -> sum == {np.sum(d[:, idx])}\")"
   ]
  },
  {
   "cell_type": "markdown",
   "metadata": {},
   "source": [
    "Отже наразі отримали локальні ваги $a_{ij}$ критеріїв/альтернатив(на останньому рівні) відносно батьківських елементів вищого рівня."
   ]
  },
  {
   "cell_type": "markdown",
   "metadata": {},
   "source": [
    "# Methods for finding global normed weights of alternatives"
   ]
  },
  {
   "cell_type": "markdown",
   "metadata": {},
   "source": [
    "## Methods for 2-level hierachies"
   ]
  },
  {
   "cell_type": "markdown",
   "metadata": {},
   "source": [
    "### Метод дистрибутивного синтезу для ієрархії з 2 рівнів"
   ]
  },
  {
   "cell_type": "code",
   "execution_count": 9,
   "metadata": {},
   "outputs": [],
   "source": [
    "# distributive synthesis approach to hierarchy with 2 levels\n",
    "def distributive_synthesis_step(w_crit, v):\n",
    "    \"\"\"\n",
    "    Computes global weights of alternatives in 2-level hierarchy\n",
    "    w_crit: List of int\n",
    "        weights of criteria\n",
    "    v: ndarray, 2d matrix <num_of_alternatives> * <num_of_criterions>\n",
    "        local weights of each alternative w.t.t. each criterion\n",
    "    \"\"\"\n",
    "    n, m = v.shape\n",
    "    # we need global weight for the each alternative\n",
    "    w_glob = np.empty(n)\n",
    "    # temporary matrix `r` with normed local weights\n",
    "    r = np.empty(v.shape)\n",
    "    for j in range(m):\n",
    "        r[:, j] = v[:, j] / np.linalg.norm(v[:, j], ord=1)\n",
    "    # calculate global weights, by definition - simplest possible code\n",
    "    for i in range(n):\n",
    "        acc = 0\n",
    "        for j in range(m):\n",
    "            acc += w_crit[j] * r[i, j]\n",
    "        w_glob[i] = acc\n",
    "    return w_glob"
   ]
  },
  {
   "cell_type": "markdown",
   "metadata": {},
   "source": [
    "<img src=\"images/lab_2_distributed_synthesis_example.png\" width=650>"
   ]
  },
  {
   "cell_type": "code",
   "execution_count": 74,
   "metadata": {},
   "outputs": [
    {
     "name": "stdout",
     "output_type": "stream",
     "text": [
      "Arrays are equal comparing to 2nd decimal: \n",
      "Actual:       [0.40947273 0.28526735 0.30525992] \n",
      "Ground truth: [0.41 0.29 0.3 ]\n"
     ]
    }
   ],
   "source": [
    "# test this method with data from lecturers example\n",
    "w_crit = np.array([0.6, 0.4])\n",
    "v = np.array([[2.52, 0.38],\n",
    "              [0.31, 2.29],\n",
    "              [1.26, 1.15]])\n",
    "w_glob_correct = np.array([0.41, 0.29, 0.30])\n",
    "w_glob = distributive_synthesis_step(w_crit, v)\n",
    "np.testing.assert_array_almost_equal(w_glob, w_glob_correct, decimal=2)\n",
    "print(f\"Arrays are equal comparing to 2nd decimal: \\nActual:       {w_glob} \\nGround truth: {w_glob_correct}\")"
   ]
  },
  {
   "cell_type": "markdown",
   "metadata": {},
   "source": [
    "### Метод ГВБВПА для ієрархії з 2 рівнів"
   ]
  },
  {
   "cell_type": "code",
   "execution_count": 83,
   "metadata": {},
   "outputs": [],
   "source": [
    "# binary consideration of the binary preferences of alternatives\n",
    "def binary_preferences_consideration_step(w_crit, v, output_P=False):\n",
    "    \"\"\"\n",
    "    Computes global weights of alternatives in 2-level hierarchy.\n",
    "    w_crit: List of int\n",
    "        weights of criteria\n",
    "    v: ndarray, 2d matrix <num_of_alternatives> * <num_of_criterions>\n",
    "        local weights of each alternative w.t.t. each criterion\n",
    "    output_P: boolean\n",
    "        flag if it is necessary to print matrix of pair comparisons P (for debugging purposes)\n",
    "    \"\"\"\n",
    "    # n - number of alternative, m - number of criterions\n",
    "    n, m = v.shape\n",
    "    # we want to fill in the next matrix of global weights pair comparison\n",
    "    P = np.eye(n)\n",
    "    # iterate over all pairs of different elements\n",
    "    for i in range(1, n):\n",
    "        for j in range(0, i):\n",
    "            # preparation for utilization of `distributive_synthesis_step`\n",
    "            v_tmp = v[(i, j), :]\n",
    "            # utilization of `distributive_synthesis_step`\n",
    "            w_glob_tmp = distributive_synthesis_step(w_crit, v_tmp)\n",
    "            P[i, j] = w_glob_tmp[0] / w_glob_tmp[1]    # $\\frac{w_{i}^{ik}}{w_{k}^{ik}}$\n",
    "            P[j, i] = w_glob_tmp[1] / w_glob_tmp[0]\n",
    "    if output_P:\n",
    "        print(P)\n",
    "    # reshaping is necessary for processing by `calculate_local` method\n",
    "    P = [P.reshape((n, n, 1))]\n",
    "    # so we have built 'matrix of pair comparisons'\n",
    "    # we can treat it like the matrix of local weights and use, for example, EM method to compute weights\n",
    "    res = calculate_local(P)\n",
    "    # `clculate_local` returns list but we need rank 1 ndarray\n",
    "    res = res[0].reshape(len(res[0]))\n",
    "    return res"
   ]
  },
  {
   "cell_type": "markdown",
   "metadata": {},
   "source": [
    "<img src=\"images/lab_2_gb.png\" width=650>"
   ]
  },
  {
   "cell_type": "code",
   "execution_count": 84,
   "metadata": {},
   "outputs": [
    {
     "name": "stdout",
     "output_type": "stream",
     "text": [
      "0.41/0.59 = 0.6949152542372882\n",
      "0.59/0.41 = 1.4390243902439024\n"
     ]
    }
   ],
   "source": [
    "print(f\"0.41/0.59 = {0.41 / 0.59}\")\n",
    "print(f\"0.59/0.41 = {0.59 / 0.41}\")"
   ]
  },
  {
   "cell_type": "code",
   "execution_count": 90,
   "metadata": {},
   "outputs": [
    {
     "name": "stdout",
     "output_type": "stream",
     "text": [
      "[[1.         1.44621063 0.99738903]\n",
      " [0.69146221 1.         0.62535662]\n",
      " [1.0026178  1.59908757 1.        ]]\n"
     ]
    },
    {
     "data": {
      "text/plain": [
       "array([0.36966738, 0.24740652, 0.3829261 ])"
      ]
     },
     "execution_count": 90,
     "metadata": {},
     "output_type": "execute_result"
    }
   ],
   "source": [
    "# test `binary_preferences_consideration_step` with data from the lecture\n",
    "res = binary_preferences_consideration_step(w_crit, v, output_P=True)\n",
    "res"
   ]
  },
  {
   "cell_type": "markdown",
   "metadata": {},
   "source": [
    "## Method for global weights calculation given arbitrary (> 2 layers) full architecture"
   ]
  },
  {
   "cell_type": "code",
   "execution_count": null,
   "metadata": {},
   "outputs": [],
   "source": [
    "def calculate_global_weights(layers, D, criteria_weights_lst, step_method_name=\"distributive_synthesis_step\"):\n",
    "    \"\"\"\n",
    "    Calculates global weights of given hierarchy.\n",
    "    layers: list\n",
    "        numbers of elements in each layer: first layer - 1 element - global aim, ... ,\n",
    "        last layer - number of alternatives\n",
    "    D: list of rank 3 tensors\n",
    "        matrices of pair comparisons of current layer elements w.r.t. elements of parent layer\n",
    "    criteria_weights_lst: list of int\n",
    "        weights of criterions; total give 1\n",
    "    step_method_name: str\n",
    "        string representation of one of the two available methods that is used iteratively.\n",
    "        Available values: `distributive_synthesis_step`, `binary_preferences_consideration_step`\n",
    "    return: ndarray rank 1\n",
    "        global weights of alternatives\n",
    "    \"\"\"\n",
    "    # choose method for making step from parent to children in global weight calculations\n",
    "    method_step = None\n",
    "    if step_method_name == \"distributive_synthesis_step\":\n",
    "        method_step = distributive_synthesis_step\n",
    "    elif step_method_name == \"binary_preferences_consideration_step\":\n",
    "        method_step = binary_preferences_consideration_step\n",
    "    else:\n",
    "        raise ValueError(\"Wrong step method name!\")\n",
    "    # after each iteration we 'update' weights of our criterions for next iteration\n",
    "    \n",
    "    for idx_layer in layers[1:]:"
   ]
  },
  {
   "cell_type": "code",
   "execution_count": 91,
   "metadata": {},
   "outputs": [
    {
     "data": {
      "text/plain": [
       "[array([1.]),\n",
       " array([0.3574885 , 0.23886437, 0.36829388, 0.03535325]),\n",
       " array([0.34592914, 0.07983064, 0.57424022])]"
      ]
     },
     "execution_count": 91,
     "metadata": {},
     "output_type": "execute_result"
    }
   ],
   "source": [
    "criteria_weights_lst"
   ]
  },
  {
   "cell_type": "code",
   "execution_count": 92,
   "metadata": {},
   "outputs": [
    {
     "data": {
      "text/plain": [
       "array([0.34592914, 0.07983064, 0.57424022])"
      ]
     },
     "execution_count": 92,
     "metadata": {},
     "output_type": "execute_result"
    }
   ],
   "source": [
    "criteria_weights"
   ]
  },
  {
   "cell_type": "code",
   "execution_count": null,
   "metadata": {},
   "outputs": [],
   "source": []
  }
 ],
 "metadata": {
  "kernelspec": {
   "display_name": "Python 3",
   "language": "python",
   "name": "python3"
  },
  "language_info": {
   "codemirror_mode": {
    "name": "ipython",
    "version": 3
   },
   "file_extension": ".py",
   "mimetype": "text/x-python",
   "name": "python",
   "nbconvert_exporter": "python",
   "pygments_lexer": "ipython3",
   "version": "3.7.3"
  }
 },
 "nbformat": 4,
 "nbformat_minor": 2
}
